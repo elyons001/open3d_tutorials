{
 "cells": [
  {
   "cell_type": "code",
   "execution_count": null,
   "id": "417d6668-5e73-4e71-85bd-28aeff3d7f11",
   "metadata": {},
   "outputs": [],
   "source": [
    "#!/usr/bin/env python\n",
    "# -*- coding: utf-8 -*-\n",
    "\"\"\"\n",
    "Created on Mon Nov  22 10:07:38 2021\n",
    "@author: earle\n",
    "Title: Open3d Tutorial Point Cloud\n",
    "Date: 22NOV2021\n",
    "Author: Earle Lyons\n",
    "Purpose: Examine Open3d point cloud functionality\n",
    "    - Visualize point cloud\n",
    "    - Voxel downsampling\n",
    "    - Vertex normal estimation\n",
    "    - Access estimated vertex normal\n",
    "    - Crop point cloud\n",
    "    - Paint point cloud\n",
    "    - Point cloud distance\n",
    "    - Bounding volumes\n",
    "    - Convex hull\n",
    "    - DBSCAN clustering\n",
    "    - Plane segmentation\n",
    "    - Hidden point removal\n",
    "Inputs:\n",
    "Outputs:\n",
    "Notes:\n",
    "###"
   ]
  },
  {
   "cell_type": "code",
   "execution_count": 1,
   "id": "93a2f23f-4155-40d1-8c3c-ccce7203d441",
   "metadata": {},
   "outputs": [
    {
     "name": "stdout",
     "output_type": "stream",
     "text": [
      "Jupyter environment detected. Enabling Open3D WebVisualizer.\n",
      "[Open3D INFO] WebRTC GUI backend enabled.\n",
      "[Open3D INFO] WebRTCWindowSystem: HTTP handshake server disabled.\n"
     ]
    }
   ],
   "source": [
    "import numpy as np\n",
    "import glob\n",
    "import open3d as o3d"
   ]
  },
  {
   "cell_type": "code",
   "execution_count": 6,
   "id": "add831d2-d2bc-49ad-85ce-0b26f95df48d",
   "metadata": {},
   "outputs": [
    {
     "data": {
      "text/plain": [
       "['test_data\\\\bathtub_0154.ply',\n",
       " 'test_data\\\\camera.json',\n",
       " 'test_data\\\\camera_primesense.json',\n",
       " 'test_data\\\\camera_trajectory.json',\n",
       " 'test_data\\\\color.ply',\n",
       " 'test_data\\\\depth.png',\n",
       " 'test_data\\\\depth_syn.png',\n",
       " 'test_data\\\\depth_syn_camera.json',\n",
       " 'test_data\\\\download_file_list.json',\n",
       " 'test_data\\\\download_test_data.cmake',\n",
       " 'test_data\\\\download_test_data.py',\n",
       " 'test_data\\\\download_utils.py',\n",
       " 'test_data\\\\fragment.pcd',\n",
       " 'test_data\\\\fragment.ply',\n",
       " 'test_data\\\\image.PNG',\n",
       " 'test_data\\\\knot.ply',\n",
       " 'test_data\\\\lena_color.jpg',\n",
       " 'test_data\\\\lena_gray.jpg',\n",
       " 'test_data\\\\my_points.txt',\n",
       " 'test_data\\\\renderoption.json',\n",
       " 'test_data\\\\rs_default_config.json',\n",
       " 'test_data\\\\simple.xyz',\n",
       " 'test_data\\\\sphere.ply',\n",
       " 'test_data\\\\tensors_compressed.npz',\n",
       " 'test_data\\\\test_pose_graph.json',\n",
       " 'test_data\\\\test_sample_ascii.ply',\n",
       " 'test_data\\\\test_sample_custom.ply',\n",
       " 'test_data\\\\test_sample_wrong_format.ply',\n",
       " 'test_data\\\\test_tensorboard_plugin.zip']"
      ]
     },
     "execution_count": 6,
     "metadata": {},
     "output_type": "execute_result"
    }
   ],
   "source": [
    "# List files in test_data directory\n",
    "glob.glob('test_data/*.*')"
   ]
  },
  {
   "cell_type": "markdown",
   "id": "672ddac5-607d-4348-b59c-a7b2c9764cb0",
   "metadata": {},
   "source": [
    "# Point Cloud"
   ]
  },
  {
   "cell_type": "markdown",
   "id": "6fbd97fc-e992-4200-8f3c-8bd4268c1f1f",
   "metadata": {},
   "source": [
    "# Visualize point cloud"
   ]
  },
  {
   "cell_type": "code",
   "execution_count": 7,
   "id": "420a441e-318f-415c-99b9-8b77d45f2da3",
   "metadata": {},
   "outputs": [
    {
     "name": "stdout",
     "output_type": "stream",
     "text": [
      "Load a ply point cloud, print it, and render it\n",
      "PointCloud with 196133 points.\n",
      "[[0.65234375 0.84686458 2.37890625]\n",
      " [0.65234375 0.83984375 2.38430572]\n",
      " [0.66737998 0.83984375 2.37890625]\n",
      " ...\n",
      " [2.00839925 2.39453125 1.88671875]\n",
      " [2.00390625 2.39488506 1.88671875]\n",
      " [2.00390625 2.39453125 1.88793314]]\n"
     ]
    }
   ],
   "source": [
    "# Read and visualize a point cloud\n",
    "print(\"Load a ply point cloud, print it, and render it\")\n",
    "# Read frament.ply point cloud from a file\n",
    "pcd = o3d.io.read_point_cloud(\"test_data/fragment.ply\")\n",
    "print(pcd)\n",
    "print(np.asarray(pcd.points))\n",
    "# Visualizes the point cloud\n",
    "o3d.visualization.draw_geometries([pcd],\n",
    "                                  zoom=0.3412,\n",
    "                                  front=[0.4257, -0.2125, -0.8795],\n",
    "                                  lookat=[2.6172, 2.0475, 1.532],\n",
    "                                  up=[-0.0694, -0.9768, 0.2024])"
   ]
  },
  {
   "cell_type": "markdown",
   "id": "49786722-bf69-4c95-8667-c8daa7c9adc9",
   "metadata": {},
   "source": [
    "## Voxel Downsampling"
   ]
  },
  {
   "cell_type": "markdown",
   "id": "9297babd-484c-454f-917a-ddcd86328421",
   "metadata": {},
   "source": [
    "Voxel downsampling uses a regular voxel grid to create a uniformly downsampled point cloud from an input point cloud. It is often used as a pre-processing step for many point cloud processing tasks. The algorithm operates in two steps:\n",
    "\n",
    "1. Points are bucketed into voxels.\n",
    "2. Each occupied voxel generates exactly one point by averaging all points inside."
   ]
  },
  {
   "cell_type": "code",
   "execution_count": 8,
   "id": "cab7ed27-a5c6-4c23-830d-b155e4a949b4",
   "metadata": {},
   "outputs": [
    {
     "name": "stdout",
     "output_type": "stream",
     "text": [
      "Downsample the point cloud with a voxel of 0.05\n"
     ]
    }
   ],
   "source": [
    "print(\"Downsample the point cloud with a voxel of 0.05\")\n",
    "# Downsample point cloud into voxels\n",
    "downpcd = pcd.voxel_down_sample(voxel_size=0.05)\n",
    "o3d.visualization.draw_geometries([downpcd],\n",
    "                                  zoom=0.3412,\n",
    "                                  front=[0.4257, -0.2125, -0.8795],\n",
    "                                  lookat=[2.6172, 2.0475, 1.532],\n",
    "                                  up=[-0.0694, -0.9768, 0.2024])"
   ]
  },
  {
   "cell_type": "markdown",
   "id": "30e46e63-0a4c-465c-9471-b033b2b1af6e",
   "metadata": {},
   "source": [
    "## Vertex Normal Estimation"
   ]
  },
  {
   "cell_type": "code",
   "execution_count": 9,
   "id": "daf85a2d-b206-405c-93f4-d5d5f3b5dd97",
   "metadata": {},
   "outputs": [
    {
     "name": "stdout",
     "output_type": "stream",
     "text": [
      "Recompute the normal of the downsampled point cloud\n"
     ]
    }
   ],
   "source": [
    "print(\"Recompute the normal of the downsampled point cloud\")\n",
    "# Point normal estimation on downsampled point cloud\n",
    "# Search radius is 0.1 (10cm) and maximun nearest neighbor is 30 neigbors\n",
    "downpcd.estimate_normals(\n",
    "    search_param=o3d.geometry.KDTreeSearchParamHybrid(radius=0.1, max_nn=30))\n",
    "o3d.visualization.draw_geometries([downpcd],\n",
    "                                  zoom=0.3412,\n",
    "                                  front=[0.4257, -0.2125, -0.8795],\n",
    "                                  lookat=[2.6172, 2.0475, 1.532],\n",
    "                                  up=[-0.0694, -0.9768, 0.2024],\n",
    "                                  point_show_normal=True)"
   ]
  },
  {
   "cell_type": "markdown",
   "id": "04fc1206-7a79-4176-8fa0-6be00c9c0e3c",
   "metadata": {},
   "source": [
    "## Access Estimated Vertex Normal"
   ]
  },
  {
   "cell_type": "code",
   "execution_count": 10,
   "id": "cfd7c286-8224-4a26-9469-0f3cd6765839",
   "metadata": {},
   "outputs": [
    {
     "name": "stdout",
     "output_type": "stream",
     "text": [
      "Print a normal vector of the 0th point\n",
      "[ 0.85641574  0.01693013 -0.51600915]\n"
     ]
    }
   ],
   "source": [
    "# Retrieve first (zero-based) estimated normal vectors from downcpcd variable\n",
    "print(\"Print a normal vector of the 0th point\")\n",
    "print(downpcd.normals[0])"
   ]
  },
  {
   "cell_type": "code",
   "execution_count": 11,
   "id": "55cc3ff7-179a-4b84-9d98-e68b5a67ab78",
   "metadata": {},
   "outputs": [
    {
     "name": "stdout",
     "output_type": "stream",
     "text": [
      "Print the normal vectors of the first 10 points\n",
      "[[ 8.56415744e-01  1.69301342e-02 -5.16009150e-01]\n",
      " [-3.10071169e-01  3.92564590e-02 -9.49902522e-01]\n",
      " [-2.21066308e-01  2.07235365e-07 -9.75258780e-01]\n",
      " [-2.65577574e-01 -1.84601949e-01 -9.46250851e-01]\n",
      " [-7.91944115e-01 -2.92017206e-02 -6.09894891e-01]\n",
      " [-8.84912237e-02 -9.89400811e-01  1.15131831e-01]\n",
      " [ 6.28492508e-01 -6.12988948e-01 -4.78791935e-01]\n",
      " [ 7.28260110e-01 -4.73518839e-01 -4.95395924e-01]\n",
      " [-5.07368635e-03 -9.99572767e-01 -2.87844085e-02]\n",
      " [ 3.49295119e-01  1.16948013e-02 -9.36939780e-01]]\n"
     ]
    }
   ],
   "source": [
    "# Retrieve first 10 estimated normal vectors from downcpcd variable\n",
    "print(\"Print the normal vectors of the first 10 points\")\n",
    "print(np.asarray(downpcd.normals)[:10, :])"
   ]
  },
  {
   "cell_type": "markdown",
   "id": "ae57d2c3-b281-44fa-9da8-7ccc9690ae77",
   "metadata": {},
   "source": [
    "## Crop Point Cloud"
   ]
  },
  {
   "cell_type": "code",
   "execution_count": 13,
   "id": "30d1a489-78d4-49f1-a1d2-2b14ab7a7e05",
   "metadata": {},
   "outputs": [
    {
     "name": "stdout",
     "output_type": "stream",
     "text": [
      "Load a polygon volume and use it to crop the original point cloud\n"
     ]
    }
   ],
   "source": [
    "print(\"Load a polygon volume and use it to crop the original point cloud\")\n",
    "# Reads the cropped.json file with the polygon selection area\n",
    "vol = o3d.visualization.read_selection_polygon_volume(\n",
    "    \"test_data/Crop/cropped.json\")\n",
    "# Filters out points\n",
    "chair = vol.crop_point_cloud(pcd)\n",
    "o3d.visualization.draw_geometries([chair],\n",
    "                                  zoom=0.7,\n",
    "                                  front=[0.5439, -0.2333, -0.8060],\n",
    "                                  lookat=[2.4615, 2.1331, 1.338],\n",
    "                                  up=[-0.1781, -0.9708, 0.1608])"
   ]
  },
  {
   "cell_type": "code",
   "execution_count": 24,
   "id": "1762947e-8827-455c-8a8e-2828342a745d",
   "metadata": {},
   "outputs": [
    {
     "data": {
      "text/plain": [
       "{'axis_max': 4.022921085357666,\n",
       " 'axis_min': -0.763413667678833,\n",
       " 'bounding_polygon': [[2.6509309513852526, 0.0, 1.6834473132326844],\n",
       "  [2.578642824691715, 0.0, 1.6892074266735244],\n",
       "  [2.4625790337552154, 0.0, 1.6665777078297999],\n",
       "  [2.2228544982251655, 0.0, 1.6168160446813649],\n",
       "  [2.166993206001413, 0.0, 1.6115495157201662],\n",
       "  [2.1167895865303286, 0.0, 1.6257706054969348],\n",
       "  [2.0634657721747383, 0.0, 1.623021658624539],\n",
       "  [2.0568612343437236, 0.0, 1.5853892911207643],\n",
       "  [2.1605399001237027, 0.0, 0.9622899325508302],\n",
       "  [2.1956669387205228, 0.0, 0.9557274604978507],\n",
       "  [2.2191318790575583, 0.0, 0.8873444998210875],\n",
       "  [2.248488184792592, 0.0, 0.8704280726701363],\n",
       "  [2.6891234157295827, 0.0, 0.941406779889676],\n",
       "  [2.7328692490470647, 0.0, 0.9877574067484025],\n",
       "  [2.7129337547575547, 0.0, 1.0398850034649203],\n",
       "  [2.7592174072415405, 0.0, 1.0692940558509485],\n",
       "  [2.768921641945343, 0.0, 1.0953914441371593],\n",
       "  [2.685145562545567, 0.0, 1.6307334122162018],\n",
       "  [2.671477609998124, 0.0, 1.675524657088997],\n",
       "  [2.6579576128816544, 0.0, 1.6819127849749496]],\n",
       " 'class_name': 'SelectionPolygonVolume',\n",
       " 'orthogonal_axis': 'Y',\n",
       " 'version_major': 1,\n",
       " 'version_minor': 0}"
      ]
     },
     "execution_count": 24,
     "metadata": {},
     "output_type": "execute_result"
    }
   ],
   "source": [
    "# Display the cropped.json file\n",
    "import json\n",
    "f = open(\"test_data/Crop/cropped.json\")\n",
    "json.load(f)"
   ]
  },
  {
   "cell_type": "markdown",
   "id": "e9da2bdd-3713-4052-9617-eaa88153699b",
   "metadata": {},
   "source": [
    "## Paint Point Cloud"
   ]
  },
  {
   "cell_type": "code",
   "execution_count": 29,
   "id": "79735ebc-8aa8-408b-8d6f-99bf96842fc6",
   "metadata": {},
   "outputs": [
    {
     "name": "stdout",
     "output_type": "stream",
     "text": [
      "Paint chair\n"
     ]
    }
   ],
   "source": [
    "print(\"Paint chair\")\n",
    "# Paints points in a uniform color using RGB space\n",
    "chair.paint_uniform_color([1, 0.706, 0])\n",
    "o3d.visualization.draw_geometries([chair],\n",
    "                                  zoom=0.7,\n",
    "                                  front=[0.5439, -0.2333, -0.8060],\n",
    "                                  lookat=[2.4615, 2.1331, 1.338],\n",
    "                                  up=[-0.1781, -0.9708, 0.1608])"
   ]
  },
  {
   "cell_type": "markdown",
   "id": "9bf43c02-ce38-4a71-9113-04e505720cd8",
   "metadata": {},
   "source": [
    "## Point Cloud Distance"
   ]
  },
  {
   "cell_type": "code",
   "execution_count": 31,
   "id": "f9f5a14d-ac4b-4c2f-b566-2d0c39af2cb3",
   "metadata": {
    "jp-MarkdownHeadingCollapsed": true,
    "tags": []
   },
   "outputs": [],
   "source": [
    "# Load data\n",
    "pcd = o3d.io.read_point_cloud(\"test_data/fragment.ply\")\n",
    "vol = o3d.visualization.read_selection_polygon_volume(\n",
    "    \"test_data/Crop/cropped.json\")\n",
    "chair = vol.crop_point_cloud(pcd)\n",
    "\n",
    "# Computes the distance from each point in source point cloud (pcd) \n",
    "# to the closest point in the target point cloud (chair)\n",
    "dists = pcd.compute_point_cloud_distance(chair)\n",
    "# Distances are converted into a numpy array\n",
    "dists = np.asarray(dists)\n",
    "ind = np.where(dists > 0.01)[0]\n",
    "pcd_without_chair = pcd.select_by_index(ind)\n",
    "o3d.visualization.draw_geometries([pcd_without_chair],\n",
    "                                  zoom=0.3412,\n",
    "                                  front=[0.4257, -0.2125, -0.8795],\n",
    "                                  lookat=[2.6172, 2.0475, 1.532],\n",
    "                                  up=[-0.0694, -0.9768, 0.2024])"
   ]
  },
  {
   "cell_type": "code",
   "execution_count": 35,
   "id": "4373fbed-6ff4-411a-bf3d-ce1e05c52934",
   "metadata": {},
   "outputs": [],
   "source": [
    "o3d.visualization.draw_geometries([pcd],\n",
    "                                  zoom=0.3412,\n",
    "                                  front=[0.4257, -0.2125, -0.8795],\n",
    "                                  lookat=[2.6172, 2.0475, 1.532],\n",
    "                                  up=[-0.0694, -0.9768, 0.2024])"
   ]
  },
  {
   "cell_type": "code",
   "execution_count": 34,
   "id": "84ca76a0-e638-402a-95a2-14613f97fe7f",
   "metadata": {},
   "outputs": [],
   "source": [
    "o3d.visualization.draw_geometries([chair],\n",
    "                                  zoom=0.7,\n",
    "                                  front=[0.5439, -0.2333, -0.8060],\n",
    "                                  lookat=[2.4615, 2.1331, 1.338],\n",
    "                                  up=[-0.1781, -0.9708, 0.1608])"
   ]
  },
  {
   "cell_type": "code",
   "execution_count": 39,
   "id": "3b5fbc19-fc13-443e-9261-5dacef2f4343",
   "metadata": {},
   "outputs": [
    {
     "data": {
      "text/plain": [
       "array([1.82659798, 1.83171046, 1.817216  , ..., 0.27083108, 0.27181889,\n",
       "       0.27301031])"
      ]
     },
     "execution_count": 39,
     "metadata": {},
     "output_type": "execute_result"
    }
   ],
   "source": [
    "dists"
   ]
  },
  {
   "cell_type": "code",
   "execution_count": 37,
   "id": "a2111a4b-6111-40a3-affd-bc6f4798b05e",
   "metadata": {},
   "outputs": [
    {
     "data": {
      "text/plain": [
       "array([     0,      1,      2, ..., 196130, 196131, 196132], dtype=int64)"
      ]
     },
     "execution_count": 37,
     "metadata": {},
     "output_type": "execute_result"
    }
   ],
   "source": [
    "ind"
   ]
  },
  {
   "cell_type": "markdown",
   "id": "f0a41b87-a7ad-403c-a94f-d73d718ba106",
   "metadata": {},
   "source": [
    "## Bounding Volumes"
   ]
  },
  {
   "cell_type": "code",
   "execution_count": 59,
   "id": "93f743ba-c582-4261-84f7-e8705f727974",
   "metadata": {},
   "outputs": [],
   "source": [
    "# Get AxisAlignedBoundingBox from chain object\n",
    "aabb = chair.get_axis_aligned_bounding_box()\n",
    "aabb.color = (1, 0, 0)\n",
    "# Get OrientedBoundingBox from chair object\n",
    "obb = chair.get_oriented_bounding_box()\n",
    "obb.color = (0, 1, 0)\n",
    "o3d.visualization.draw_geometries([chair, aabb, obb],\n",
    "                                  zoom=0.7,\n",
    "                                  front=[0.5439, -0.2333, -0.8060],\n",
    "                                  lookat=[2.4615, 2.1331, 1.338],\n",
    "                                  up=[-0.1781, -0.9708, 0.1608])"
   ]
  },
  {
   "cell_type": "markdown",
   "id": "06bf8338-c228-4818-ac4f-1ec2fda0f7f2",
   "metadata": {},
   "source": [
    "### AxisAlignedBoundingBox"
   ]
  },
  {
   "cell_type": "code",
   "execution_count": 66,
   "id": "56ab7e8b-b74d-4b05-9c6a-2617a4069c3e",
   "metadata": {},
   "outputs": [],
   "source": [
    "# Get AxisAlignedBoundingBox from chain object\n",
    "aabb = chair.get_axis_aligned_bounding_box()\n",
    "aabb.color = (1, 0, 0)\n",
    "o3d.visualization.draw_geometries([chair, aabb],\n",
    "                                  zoom=1.0,\n",
    "                                  front=[0.5439, -0.2333, -0.8060],\n",
    "                                  lookat=[2.4615, 2.1331, 1.338],\n",
    "                                  up=[-0.1781, -0.9708, 0.1608])"
   ]
  },
  {
   "cell_type": "markdown",
   "id": "7290e30c-8594-4e3f-9d0f-c9431a0d63a4",
   "metadata": {},
   "source": [
    "### OrientedBoundingBox"
   ]
  },
  {
   "cell_type": "code",
   "execution_count": 62,
   "id": "02ff933c-3eb6-4db9-a8a8-7c0db81f8b95",
   "metadata": {},
   "outputs": [],
   "source": [
    "# Get OrientedBoundingBox from chair object\n",
    "obb = chair.get_oriented_bounding_box()\n",
    "obb.color = (0, 1, 0)\n",
    "o3d.visualization.draw_geometries([chair, obb],\n",
    "                                  zoom=0.7,\n",
    "                                  front=[0.5439, -0.2333, -0.8060],\n",
    "                                  lookat=[2.4615, 2.1331, 1.338],\n",
    "                                  up=[-0.1781, -0.9708, 0.1608])"
   ]
  },
  {
   "cell_type": "markdown",
   "id": "3b232326-e1d3-40de-9c30-97fafe9e8b8f",
   "metadata": {},
   "source": [
    "## Convex Hull"
   ]
  },
  {
   "cell_type": "code",
   "execution_count": 81,
   "id": "72eb70b7-5dbb-4fe2-bd72-b714fe05afba",
   "metadata": {},
   "outputs": [],
   "source": [
    "# https://raw.githubusercontent.com/isl-org/Open3D/master/examples/python/open3d_tutorial.py\n",
    "# http://graphics.stanford.edu/pub/3Dscanrep/bunny.tar.gz\n",
    "bunny_mesh = o3d.io.read_triangle_mesh(\"test_data/bunny/reconstruction/bun_zipper.ply\")\n",
    "bunny_mesh.compute_vertex_normals()\n",
    "pcl = bunny_mesh.sample_points_poisson_disk(number_of_points=2000)\n",
    "# Using Qhull implementation, compute the convex hull of bunny_mesh point cloud\n",
    "hull, _ = pcl.compute_convex_hull()\n",
    "# A LineSet is created and visualized from a triangle mesh\n",
    "hull_ls = o3d.geometry.LineSet.create_from_triangle_mesh(hull)\n",
    "hull_ls.paint_uniform_color((1, 0, 0))\n",
    "o3d.visualization.draw_geometries([pcl, hull_ls])"
   ]
  },
  {
   "cell_type": "markdown",
   "id": "59e51824-af20-4300-a96c-5522aa5ffd22",
   "metadata": {
    "tags": []
   },
   "source": [
    "## DBSCAN Clustering"
   ]
  },
  {
   "cell_type": "code",
   "execution_count": 83,
   "id": "4e45577b-a35e-46ee-97dd-6e9e33ed630d",
   "metadata": {},
   "outputs": [
    {
     "name": "stderr",
     "output_type": "stream",
     "text": [
      "generated new fontManager\n"
     ]
    },
    {
     "name": "stdout",
     "output_type": "stream",
     "text": [
      "[Open3D DEBUG] Precompute neighbors.\n",
      "[Open3D DEBUG] Done Precompute neighbors.\n",
      "[Open3D DEBUG] Compute Clusters\n",
      "[Open3D DEBUG] Done Compute Clusters: 10\n",
      "point cloud has 10 clusters\n",
      "[Open3D WARNING] GLFW Error: WGL: Failed to make context current: The handle is invalid. \n",
      "[Open3D WARNING] GLFW Error: WGL: Failed to make context current: The requested transformation operation is not supported. \n"
     ]
    }
   ],
   "source": [
    "import matplotlib.pyplot as plt\n",
    "\n",
    "pcd = o3d.io.read_point_cloud(\"test_data/fragment.ply\")\n",
    "\n",
    "# DBSCAN clustering algorithm is implemented using cluster_dbscan and\n",
    "# two parameters - eps (defines the distance to neighbors in a cluster)\n",
    "# and min_points (deines the minimum number of points required to form\n",
    "# a cluster)\n",
    "with o3d.utility.VerbosityContextManager(\n",
    "        o3d.utility.VerbosityLevel.Debug) as cm:\n",
    "    labels = np.array(\n",
    "        pcd.cluster_dbscan(eps=0.02, min_points=10, print_progress=True))\n",
    "\n",
    "# Assign the maximum number of labels (i.e. 9) to max_label)\n",
    "max_label = labels.max()\n",
    "print(f\"point cloud has {max_label + 1} clusters\")\n",
    "colors = plt.get_cmap(\"tab20\")(labels / (max_label if max_label > 0 else 1))\n",
    "colors[labels < 0] = 0\n",
    "pcd.colors = o3d.utility.Vector3dVector(colors[:, :3])\n",
    "o3d.visualization.draw_geometries([pcd],\n",
    "                                  zoom=0.455,\n",
    "                                  front=[-0.4999, -0.1659, -0.8499],\n",
    "                                  lookat=[2.1813, 2.0619, 2.0999],\n",
    "                                  up=[0.1204, -0.9852, 0.1215])"
   ]
  },
  {
   "cell_type": "code",
   "execution_count": 89,
   "id": "cceec051-3cdd-4ef2-9d47-ab86214ff87b",
   "metadata": {},
   "outputs": [
    {
     "data": {
      "text/plain": [
       "array([[0.12156863, 0.46666667, 0.70588235, 1.        ],\n",
       "       [0.12156863, 0.46666667, 0.70588235, 1.        ],\n",
       "       [0.12156863, 0.46666667, 0.70588235, 1.        ],\n",
       "       ...,\n",
       "       [0.17254902, 0.62745098, 0.17254902, 1.        ],\n",
       "       [0.17254902, 0.62745098, 0.17254902, 1.        ],\n",
       "       [0.17254902, 0.62745098, 0.17254902, 1.        ]])"
      ]
     },
     "execution_count": 89,
     "metadata": {},
     "output_type": "execute_result"
    }
   ],
   "source": [
    "colors"
   ]
  },
  {
   "cell_type": "markdown",
   "id": "f2cf68b3-529d-49de-ad32-801cde59d00c",
   "metadata": {},
   "source": [
    "##  Plane Segmentation"
   ]
  },
  {
   "cell_type": "code",
   "execution_count": 90,
   "id": "35b29b38-b13a-4eaf-b2c8-97ba872d603b",
   "metadata": {},
   "outputs": [
    {
     "name": "stdout",
     "output_type": "stream",
     "text": [
      "Plane equation: -0.06x + -0.10y + 0.99z + -1.06 = 0\n"
     ]
    }
   ],
   "source": [
    "pcd = o3d.io.read_point_cloud(\"test_data/fragment.pcd\")\n",
    "# Using segment_plane the plane is found with the largest support\n",
    "# in the point cloud with three arguments - distance threshold\n",
    "# (defines the maximum distance a point can have to an estimated\n",
    "# plane to be considered an inlier), ransac_n (defines the number\n",
    "# of points that are randomly sampled to estimate a plane), and\n",
    "# num_interations (defines how often a random plane is sampled\n",
    "# and verified).\n",
    "plane_model, inliers = pcd.segment_plane(distance_threshold=0.01,\n",
    "                                         ransac_n=3,\n",
    "                                         num_iterations=1000)\n",
    "[a, b, c, d] = plane_model\n",
    "print(f\"Plane equation: {a:.2f}x + {b:.2f}y + {c:.2f}z + {d:.2f} = 0\")\n",
    "\n",
    "inlier_cloud = pcd.select_by_index(inliers)\n",
    "inlier_cloud.paint_uniform_color([1.0, 0, 0])\n",
    "outlier_cloud = pcd.select_by_index(inliers, invert=True)\n",
    "o3d.visualization.draw_geometries([inlier_cloud, outlier_cloud],\n",
    "                                  zoom=0.8,\n",
    "                                  front=[-0.4999, -0.1659, -0.8499],\n",
    "                                  lookat=[2.1813, 2.0619, 2.0999],\n",
    "                                  up=[0.1204, -0.9852, 0.1215])"
   ]
  },
  {
   "cell_type": "markdown",
   "id": "4d789e61-e00e-4288-a8cb-7c7bcc1bbd29",
   "metadata": {},
   "source": [
    "## Hidden Point Removal"
   ]
  },
  {
   "cell_type": "code",
   "execution_count": 92,
   "id": "f10c9e94-597b-4f52-aeee-ba35e773700f",
   "metadata": {},
   "outputs": [
    {
     "name": "stdout",
     "output_type": "stream",
     "text": [
      "Convert mesh to a point cloud and estimate dimensions\n"
     ]
    }
   ],
   "source": [
    "# https://raw.githubusercontent.com/isl-org/Open3D/master/examples/python/open3d_tutorial.py\n",
    "# http://graphics.stanford.edu/pub/3Dscanrep/armadillo/Armadillo.ply.gz\n",
    "armadillo_mesh = o3d.io.read_triangle_mesh(\"test_data/Armadillo.ply\")\n",
    "armadillo_mesh.compute_vertex_normals()\n",
    "\n",
    "print(\"Convert mesh to a point cloud and estimate dimensions\")\n",
    "pcd = armadillo_mesh.sample_points_poisson_disk(5000)\n",
    "diameter = np.linalg.norm(\n",
    "    np.asarray(pcd.get_max_bound()) - np.asarray(pcd.get_min_bound()))\n",
    "o3d.visualization.draw_geometries([pcd])"
   ]
  },
  {
   "cell_type": "code",
   "execution_count": 93,
   "id": "3feb5688-0d4d-4464-89a0-b3128deb71d2",
   "metadata": {},
   "outputs": [
    {
     "name": "stdout",
     "output_type": "stream",
     "text": [
      "Define parameters used for hidden_point_removal\n",
      "Get all points that are visible from given view point\n",
      "Visualize result\n"
     ]
    }
   ],
   "source": [
    "print(\"Define parameters used for hidden_point_removal\")\n",
    "camera = [0, 0, diameter]\n",
    "radius = diameter * 100\n",
    "\n",
    "print(\"Get all points that are visible from given view point\")\n",
    "_, pt_map = pcd.hidden_point_removal(camera, radius)\n",
    "\n",
    "print(\"Visualize result\")\n",
    "pcd = pcd.select_by_index(pt_map)\n",
    "o3d.visualization.draw_geometries([pcd])"
   ]
  },
  {
   "cell_type": "code",
   "execution_count": null,
   "id": "68771605-fb25-4bc0-96a5-a08d434e993c",
   "metadata": {},
   "outputs": [],
   "source": []
  }
 ],
 "metadata": {
  "kernelspec": {
   "display_name": "Python 3 (ipykernel)",
   "language": "python",
   "name": "python3"
  },
  "language_info": {
   "codemirror_mode": {
    "name": "ipython",
    "version": 3
   },
   "file_extension": ".py",
   "mimetype": "text/x-python",
   "name": "python",
   "nbconvert_exporter": "python",
   "pygments_lexer": "ipython3",
   "version": "3.8.12"
  }
 },
 "nbformat": 4,
 "nbformat_minor": 5
}
